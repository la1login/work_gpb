{
 "cells": [
  {
   "cell_type": "code",
   "execution_count": null,
   "id": "83e1b8b4",
   "metadata": {},
   "outputs": [],
   "source": [
    "import warnings\n",
    "warnings.simplefilter(action='ignore', category=FutureWarning)"
   ]
  },
  {
   "cell_type": "code",
   "execution_count": null,
   "id": "df4d9c36",
   "metadata": {
    "id": "df4d9c36"
   },
   "outputs": [],
   "source": [
    "import pandas as pd\n",
    "import single_gen_func as sgf\n",
    "from sdv.metadata import SingleTableMetadata\n",
    "from sdv.evaluation.single_table import get_column_plot"
   ]
  },
  {
   "cell_type": "markdown",
   "id": "4707d8d4",
   "metadata": {},
   "source": [
    "********"
   ]
  },
  {
   "cell_type": "markdown",
   "id": "1fb38125",
   "metadata": {},
   "source": [
    "# Базовая конфигурация\n",
    "\n",
    "В данной секции необходимо определить базовую конфигурацию данных,\n",
    "с которыми идет работа. Это включает в себя:\n",
    "1. Создание списка из имен полей, содержащих значения типа дата. Если такие отсутствуют, можно пропустить данный пункт\n",
    "2. Создание pandas DataFrame через вызов функции read_csv\n",
    "3. Создания словаря, определяющего поля типа sdtype=id и их шаблоны регулярных выражений. При отсутствии шаблона передается None, в таком случае генерируется числовая или символьная инкрементальная последовательность. Подробнее обо всем в документации: https://docs.sdv.dev/sdv/reference/metadata-spec/sdtypes\n",
    "4. Создание строки, содержащей название первичного ключа"
   ]
  },
  {
   "cell_type": "code",
   "execution_count": null,
   "id": "a675ec0c",
   "metadata": {},
   "outputs": [],
   "source": [
    "dates = ['scheduled_departure', \n",
    "         'scheduled_arrival', \n",
    "         'actual_departure', \n",
    "         'actual_arrival', \n",
    "         'constraint_date']"
   ]
  },
  {
   "cell_type": "code",
   "execution_count": null,
   "id": "3a0d2da9",
   "metadata": {},
   "outputs": [],
   "source": [
    "df = sgf.read_csv('csvs/flights.csv', 5000, dates)\n",
    "df.head(5)"
   ]
  },
  {
   "cell_type": "code",
   "execution_count": null,
   "id": "ffe6287e",
   "metadata": {},
   "outputs": [],
   "source": [
    "df.info()"
   ]
  },
  {
   "cell_type": "code",
   "execution_count": null,
   "id": "48650b5f",
   "metadata": {},
   "outputs": [],
   "source": [
    "id_and_regex = {'flight_no': 'PG[0-9]{5}',\n",
    "                'aircraft_code': None,\n",
    "                'departure_airport': '[A-Z]{3}',\n",
    "                'arrival_airport': '[A-Z]{3}'}"
   ]
  },
  {
   "cell_type": "code",
   "execution_count": null,
   "id": "e87b10cf",
   "metadata": {},
   "outputs": [],
   "source": [
    "pkey = 'flight_id'"
   ]
  },
  {
   "cell_type": "markdown",
   "id": "39bc4195",
   "metadata": {},
   "source": [
    "***********"
   ]
  },
  {
   "cell_type": "markdown",
   "id": "I8m5RNz5YeBu",
   "metadata": {
    "id": "I8m5RNz5YeBu"
   },
   "source": [
    "# Метаданные\n",
    "\n",
    "В этом блоке:\n",
    "1. Создается объект метаданных\n",
    "2. Производится базовое автоматическое заполнение объекта на основе исходного DataFrame\n",
    "3. Вызывается функция для основных дополнений объекта, а именно:\n",
    "    а. Добавляется тип id и регулярки в соответствии с ранее заданными данными\n",
    "    б. Добавляется тип datetime и формат для полей с датами при их наличии\n",
    "    в. Добавляется первичный ключ\n",
    "4. Кастомные апдейты метаданных по желанию"
   ]
  },
  {
   "cell_type": "code",
   "execution_count": null,
   "id": "gHwkV2dJYT8t",
   "metadata": {
    "id": "gHwkV2dJYT8t"
   },
   "outputs": [],
   "source": [
    "metadata = SingleTableMetadata()"
   ]
  },
  {
   "cell_type": "code",
   "execution_count": null,
   "id": "e7eRgsriYc0K",
   "metadata": {
    "id": "e7eRgsriYc0K"
   },
   "outputs": [],
   "source": [
    "metadata.detect_from_dataframe(data=df)"
   ]
  },
  {
   "cell_type": "markdown",
   "id": "59a7a27e",
   "metadata": {},
   "source": [
    "**При отсутствии дат в таблице функция вызывается с 3 аргументами**"
   ]
  },
  {
   "cell_type": "code",
   "execution_count": null,
   "id": "64b998fb",
   "metadata": {},
   "outputs": [],
   "source": [
    "sgf.update_metadata(metadata, pkey, id_and_regex, dates)"
   ]
  },
  {
   "cell_type": "code",
   "execution_count": null,
   "id": "75a68afa",
   "metadata": {},
   "outputs": [],
   "source": [
    "metadata"
   ]
  },
  {
   "cell_type": "markdown",
   "id": "cb902c6f",
   "metadata": {
    "id": "sZ7uJRfbYvJT"
   },
   "source": [
    "Образец для обновления метаданных хардкодом. Подробнее https://docs.sdv.dev/sdv/single-table-data/data-preparation/single-table-metadata-api"
   ]
  },
  {
   "cell_type": "code",
   "execution_count": null,
   "id": "097a6250",
   "metadata": {},
   "outputs": [],
   "source": [
    "metadata.update_column(\n",
    "    column_name='aircraft_code',\n",
    "    sdtype='id',\n",
    "    regex_format='[0-9A-Z]{4}'\n",
    ")"
   ]
  },
  {
   "cell_type": "markdown",
   "id": "b2e57b37",
   "metadata": {},
   "source": [
    "***"
   ]
  },
  {
   "cell_type": "markdown",
   "id": "f835ce4e",
   "metadata": {},
   "source": [
    "# Генерация\n",
    "\n",
    "Далее находится код для генерации данных с использованием всех доступных моделей. \n",
    "\n",
    "В результате будет получен сгенерированный DataFrame, сам объект генератора (модели), а также объект отчета о качестве. Все это дополняется понятной визуализацией из основной функции. Аргументы задаются в соответствии с **документацией**, которую можно увидеть в **следующей ячейке**. Дополнительно можно построить график распределения числовых и категориальных полей, а также полей с датами"
   ]
  },
  {
   "cell_type": "code",
   "execution_count": null,
   "id": "e68cdca7",
   "metadata": {},
   "outputs": [],
   "source": [
    "help(sgf.generate_fake_data)"
   ]
  },
  {
   "cell_type": "markdown",
   "id": "kPoG0_CbagU8",
   "metadata": {
    "id": "kPoG0_CbagU8"
   },
   "source": [
    "# GaussianCopula model\n",
    "https://docs.sdv.dev/sdv/single-table-data/modeling/synthesizers/gaussiancopulasynthesizer"
   ]
  },
  {
   "cell_type": "code",
   "execution_count": null,
   "id": "bf3b327f",
   "metadata": {},
   "outputs": [],
   "source": [
    "copula_generator, copula_sample, copula_report = sgf.generate_fake_data('copula', metadata, df, len(df))"
   ]
  },
  {
   "cell_type": "code",
   "execution_count": null,
   "id": "26084bf9",
   "metadata": {},
   "outputs": [],
   "source": [
    "copula_sample.head(5)"
   ]
  },
  {
   "cell_type": "markdown",
   "id": "14c6353f",
   "metadata": {},
   "source": [
    "### Дополнительная визуализация распределения значений выбранного поля"
   ]
  },
  {
   "cell_type": "code",
   "execution_count": null,
   "id": "21a542be",
   "metadata": {},
   "outputs": [],
   "source": [
    "fig = get_column_plot(\n",
    "    real_data=df,\n",
    "    synthetic_data=copula_sample,\n",
    "    column_name='scheduled_arrival',\n",
    "    metadata=metadata\n",
    ")   \n",
    "fig.show()"
   ]
  },
  {
   "cell_type": "markdown",
   "id": "99c5c5f1",
   "metadata": {},
   "source": [
    "# CTGAN model\n",
    "https://docs.sdv.dev/sdv/single-table-data/modeling/synthesizers/ctgansynthesizer"
   ]
  },
  {
   "cell_type": "code",
   "execution_count": null,
   "id": "db516238",
   "metadata": {},
   "outputs": [],
   "source": [
    "ctgan_generator, ctgan_sample, ctgan_report = sgf.generate_fake_data('ctgan', metadata, df, len(df))"
   ]
  },
  {
   "cell_type": "code",
   "execution_count": null,
   "id": "e3b56d88",
   "metadata": {},
   "outputs": [],
   "source": [
    "ctgan_sample.head(5)"
   ]
  },
  {
   "cell_type": "code",
   "execution_count": null,
   "id": "7bda6e82",
   "metadata": {},
   "outputs": [],
   "source": [
    "fig = get_column_plot(\n",
    "    real_data=df,\n",
    "    synthetic_data=ctgan_sample,\n",
    "    column_name='status',\n",
    "    metadata=metadata\n",
    ")\n",
    "    \n",
    "fig.show()"
   ]
  },
  {
   "cell_type": "markdown",
   "id": "T0CXNZWSaiup",
   "metadata": {
    "id": "T0CXNZWSaiup"
   },
   "source": [
    "# TVAE model\n",
    "https://docs.sdv.dev/sdv/single-table-data/modeling/synthesizers/tvaesynthesizer"
   ]
  },
  {
   "cell_type": "code",
   "execution_count": null,
   "id": "0EYa-VqYafD7",
   "metadata": {
    "id": "0EYa-VqYafD7"
   },
   "outputs": [],
   "source": [
    "tvae_generator, tvae_sample, tvae_report = sgf.generate_fake_data('tvae', metadata, df, len(df))"
   ]
  },
  {
   "cell_type": "code",
   "execution_count": null,
   "id": "a07aa882",
   "metadata": {},
   "outputs": [],
   "source": [
    "tvae_sample.head(5)"
   ]
  },
  {
   "cell_type": "code",
   "execution_count": null,
   "id": "b175b96c",
   "metadata": {},
   "outputs": [],
   "source": [
    "fig = get_column_plot(\n",
    "    real_data=df,\n",
    "    synthetic_data=tvae_sample,\n",
    "    column_name='status',\n",
    "    metadata=metadata\n",
    ")\n",
    "    \n",
    "fig.show()"
   ]
  },
  {
   "cell_type": "markdown",
   "id": "95kNM6kTawrS",
   "metadata": {
    "id": "95kNM6kTawrS"
   },
   "source": [
    "# CopulaGAN model\n",
    "https://docs.sdv.dev/sdv/single-table-data/modeling/synthesizers/copulagansynthesizer"
   ]
  },
  {
   "cell_type": "code",
   "execution_count": null,
   "id": "4dd9dea2",
   "metadata": {},
   "outputs": [],
   "source": [
    "copgan_generator, copgan_sample, copgan_report = sgf.generate_fake_data('copgan', metadata, df, len(df))"
   ]
  },
  {
   "cell_type": "code",
   "execution_count": null,
   "id": "ba5bf42c",
   "metadata": {},
   "outputs": [],
   "source": [
    "copgan_sample.head(5)"
   ]
  },
  {
   "cell_type": "code",
   "execution_count": null,
   "id": "2a2450f4",
   "metadata": {},
   "outputs": [],
   "source": [
    "fig = get_column_plot(\n",
    "    real_data=df,\n",
    "    synthetic_data=copgan_sample,\n",
    "    column_name='status',\n",
    "    metadata=metadata\n",
    ")\n",
    "\n",
    "fig.show()"
   ]
  }
 ],
 "metadata": {
  "colab": {
   "provenance": []
  },
  "kernelspec": {
   "display_name": "sdv",
   "language": "python",
   "name": "sdv"
  },
  "language_info": {
   "codemirror_mode": {
    "name": "ipython",
    "version": 3
   },
   "file_extension": ".py",
   "mimetype": "text/x-python",
   "name": "python",
   "nbconvert_exporter": "python",
   "pygments_lexer": "ipython3",
   "version": "3.7.16"
  }
 },
 "nbformat": 4,
 "nbformat_minor": 5
}
